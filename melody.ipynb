{
  "cells": [
    {
      "cell_type": "code",
      "execution_count": null,
      "metadata": {
        "id": "izVhdFzYZTrk"
      },
      "outputs": [],
      "source": []
    },
    {
      "cell_type": "code",
      "execution_count": null,
      "metadata": {
        "id": "o7pUw1yoZjal"
      },
      "outputs": [],
      "source": []
    },
    {
      "cell_type": "code",
      "execution_count": null,
      "metadata": {
        "id": "hdSu6R8pZjdf"
      },
      "outputs": [],
      "source": []
    },
    {
      "cell_type": "code",
      "execution_count": null,
      "metadata": {
        "id": "J9e2b1ztZjgA"
      },
      "outputs": [],
      "source": [
        "import os\n",
        "import numpy as np\n",
        "import pandas as pd\n",
        "import seaborn as sns\n",
        "import matplotlib.pyplot as plt\n",
        "\n",
        "\n",
        "import warnings\n",
        "warnings.filterwarnings('ignore')\n",
        "\n",
        "import tensorflow as tf\n",
        "from keras.preprocessing.image import load_img, img_to_array\n",
        "from tensorflow.keras.preprocessing.image import ImageDataGenerator\n",
        "from keras.layers import Dense,Dropout,MaxPooling2D,Flatten,Conv2D,BatchNormalization\n",
        "from keras.models import Model,Sequential\n",
        "from tensorflow.keras.optimizers import Adam\n",
        "from keras import regularizers\n",
        "from tensorflow.keras.utils import plot_model\n",
        "from keras.preprocessing import image\n",
        "from sklearn.metrics import confusion_matrix\n",
        "import itertools\n"
      ]
    },
    {
      "cell_type": "code",
      "execution_count": null,
      "metadata": {
        "id": "Zve8uE82Zji1"
      },
      "outputs": [],
      "source": [
        "folder_path = \"/kaggle/input/fer2013\""
      ]
    },
    {
      "cell_type": "code",
      "execution_count": null,
      "metadata": {
        "id": "h2wokcUjZjl0"
      },
      "outputs": [],
      "source": [
        "\n",
        "train_dir = '/kaggle/input/fer2013/train'\n",
        "val_dir = '/kaggle/input/fer2013/test'"
      ]
    },
    {
      "cell_type": "code",
      "execution_count": null,
      "metadata": {
        "id": "VXTg34wkZjoo"
      },
      "outputs": [],
      "source": [
        "\n",
        "img_size = 48\n",
        "\n",
        "emotion_list = ['angry', 'disgust', 'fear', 'happy', 'sad', 'surprise', 'neutral']\n",
        "\n",
        "\n",
        "plt.figure(figsize=(18,22))\n",
        "i = 1\n",
        "for expression in emotion_list:\n",
        "    img = load_img((train_dir + '/' + expression +'/'+ os.listdir(train_dir + '/' + expression)[59]))\n",
        "    plt.subplot(1,7,i)\n",
        "    plt.imshow(img)\n",
        "    plt.title(expression)\n",
        "    plt.axis('off')\n",
        "    i += 1\n",
        "plt.show()\n"
      ]
    },
    {
      "cell_type": "code",
      "execution_count": null,
      "metadata": {
        "id": "X-qBTcUkZjq0"
      },
      "outputs": [],
      "source": [
        "datagen_train = ImageDataGenerator(rescale = 1./255,\n",
        "                                  )\n",
        "datagen_val = ImageDataGenerator(rescale = 1./255,\n",
        "                                 )"
      ]
    },
    {
      "cell_type": "code",
      "execution_count": null,
      "metadata": {
        "id": "9PSnKXmQZjv3"
      },
      "outputs": [],
      "source": [
        "img_size = 48\n",
        "\n",
        "\n",
        "batch_size = 64\n",
        "\n",
        "\n",
        "train_set = datagen_train.flow_from_directory(directory=train_dir,\n",
        "                                              target_size=(img_size,img_size),\n",
        "                                              batch_size = batch_size,\n",
        "                                              color_mode = 'grayscale',\n",
        "                                              class_mode = \"categorical\",\n",
        "                                              shuffle=True\n",
        "                                              )\n",
        "\n",
        "val_set = datagen_train.flow_from_directory(directory=val_dir,\n",
        "                                              target_size=(img_size,img_size),\n",
        "                                              batch_size = batch_size,\n",
        "                                              color_mode = 'grayscale',\n",
        "                                              class_mode = \"categorical\",\n",
        "                                              shuffle=False\n",
        "                                              )\n"
      ]
    },
    {
      "cell_type": "code",
      "execution_count": null,
      "metadata": {
        "id": "JCmvq_jdZjx4"
      },
      "outputs": [],
      "source": [
        "model= tf.keras.models.Sequential()\n",
        "\n",
        "model.add(Conv2D(32, kernel_size=(3, 3), padding='same', activation='relu', input_shape=(48, 48,1)))\n",
        "model.add(Conv2D(64,(3,3), padding='same', activation='relu' ))\n",
        "model.add(BatchNormalization())\n",
        "model.add(MaxPooling2D(pool_size=(2, 2)))\n",
        "model.add(Dropout(0.25))\n",
        "\n",
        "model.add(Conv2D(128,(5,5), padding='same', activation='relu'))\n",
        "model.add(BatchNormalization())\n",
        "model.add(MaxPooling2D(pool_size=(2, 2)))\n",
        "model.add(Dropout(0.25))\n",
        "\n",
        "\n",
        "model.add(Conv2D(512,(3,3), padding='same', activation='relu'))\n",
        "model.add(BatchNormalization())\n",
        "model.add(MaxPooling2D(pool_size=(2, 2)))\n",
        "model.add(Dropout(0.25))\n",
        "\n",
        "model.add(Conv2D(256,(3,3), padding='same', activation='relu'))\n",
        "model.add(BatchNormalization())\n",
        "model.add(MaxPooling2D(pool_size=(2, 2)))\n",
        "model.add(Dropout(0.25))\n",
        "\n",
        "model.add(Flatten())\n",
        "\n",
        "\n",
        "model.add(Dense(256,activation = 'relu'))\n",
        "model.add(BatchNormalization())\n",
        "model.add(Dropout(0.30))\n",
        "\n",
        "\n",
        "model.add(Dense(512,activation = 'relu'))\n",
        "model.add(BatchNormalization())\n",
        "model.add(Dropout(0.30))\n",
        "\n",
        "model.add(Dense(7, activation='softmax'))\n",
        "\n",
        "model.compile(\n",
        "    optimizer = 'adam',\n",
        "    loss='categorical_crossentropy',\n",
        "    metrics=['accuracy']\n",
        "  )"
      ]
    },
    {
      "cell_type": "code",
      "execution_count": null,
      "metadata": {
        "id": "1ND632FiZj0S"
      },
      "outputs": [],
      "source": [
        "\n",
        "model.summary()\n",
        "history = model.fit( train_set,\n",
        "                              steps_per_epoch=train_set.n//train_set.batch_size,\n",
        "                              validation_data = val_set,\n",
        "                              validation_steps=val_set.n//val_set.batch_size,\n",
        "                              epochs = 50)"
      ]
    },
    {
      "cell_type": "code",
      "execution_count": null,
      "metadata": {
        "id": "_38HeK6_Zj26"
      },
      "outputs": [],
      "source": [
        "model.save('face.h5')"
      ]
    },
    {
      "cell_type": "code",
      "execution_count": null,
      "metadata": {
        "id": "avE1X9kxZj6L"
      },
      "outputs": [],
      "source": [
        "model.save_weights('face.weights.h5')"
      ]
    },
    {
      "cell_type": "code",
      "execution_count": null,
      "metadata": {
        "id": "dhHXbjC2Zj9I"
      },
      "outputs": [],
      "source": []
    },
    {
      "cell_type": "code",
      "execution_count": null,
      "metadata": {
        "id": "X1Es0UvXZj_2"
      },
      "outputs": [],
      "source": []
    },
    {
      "cell_type": "code",
      "execution_count": null,
      "metadata": {
        "id": "B3YATKoWZkCh"
      },
      "outputs": [],
      "source": []
    },
    {
      "cell_type": "code",
      "execution_count": null,
      "metadata": {
        "id": "qnWOnfADZkFu"
      },
      "outputs": [],
      "source": []
    },
    {
      "cell_type": "code",
      "execution_count": null,
      "metadata": {
        "id": "09FjEUIGZkH5"
      },
      "outputs": [],
      "source": []
    }
  ],
  "metadata": {
    "colab": {
      "provenance": []
    },
    "kernelspec": {
      "display_name": "Python 3",
      "name": "python3"
    },
    "language_info": {
      "name": "python"
    }
  },
  "nbformat": 4,
  "nbformat_minor": 0
}
